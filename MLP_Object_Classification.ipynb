{
  "cells": [
    {
      "cell_type": "code",
      "execution_count": null,
      "metadata": {
        "colab": {
          "base_uri": "https://localhost:8080/"
        },
        "id": "FA0MZ6eBf3WA",
        "outputId": "dca7c3f4-20cb-4cb1-ae9d-6af895df85fc"
      },
      "outputs": [
        {
          "output_type": "stream",
          "name": "stdout",
          "text": [
            "Downloading data from https://storage.googleapis.com/tensorflow/tf-keras-datasets/train-labels-idx1-ubyte.gz\n",
            "29515/29515 [==============================] - 0s 0us/step\n",
            "Downloading data from https://storage.googleapis.com/tensorflow/tf-keras-datasets/train-images-idx3-ubyte.gz\n",
            "26421880/26421880 [==============================] - 0s 0us/step\n",
            "Downloading data from https://storage.googleapis.com/tensorflow/tf-keras-datasets/t10k-labels-idx1-ubyte.gz\n",
            "5148/5148 [==============================] - 0s 0us/step\n",
            "Downloading data from https://storage.googleapis.com/tensorflow/tf-keras-datasets/t10k-images-idx3-ubyte.gz\n",
            "4422102/4422102 [==============================] - 0s 0us/step\n",
            "Epoch 1/10\n",
            "938/938 [==============================] - 26s 26ms/step - loss: 3.3446 - accuracy: 0.7258\n",
            "Epoch 2/10\n",
            "938/938 [==============================] - 12s 13ms/step - loss: 0.5410 - accuracy: 0.8023\n",
            "Epoch 3/10\n",
            "938/938 [==============================] - 11s 12ms/step - loss: 0.4689 - accuracy: 0.8343\n",
            "Epoch 4/10\n",
            "938/938 [==============================] - 11s 12ms/step - loss: 0.4360 - accuracy: 0.8448\n",
            "Epoch 5/10\n",
            "938/938 [==============================] - 13s 14ms/step - loss: 0.4063 - accuracy: 0.8557\n",
            "Epoch 6/10\n",
            "938/938 [==============================] - 12s 12ms/step - loss: 0.4027 - accuracy: 0.8563\n",
            "Epoch 7/10\n",
            "938/938 [==============================] - 12s 12ms/step - loss: 0.3761 - accuracy: 0.8662\n",
            "Epoch 8/10\n",
            "938/938 [==============================] - 12s 13ms/step - loss: 0.3670 - accuracy: 0.8687\n",
            "Epoch 9/10\n",
            "938/938 [==============================] - 12s 12ms/step - loss: 0.3474 - accuracy: 0.8766\n",
            "Epoch 10/10\n",
            "938/938 [==============================] - 12s 13ms/step - loss: 0.3409 - accuracy: 0.8767\n",
            "313/313 - 1s - loss: 0.4257 - accuracy: 0.8581 - 1s/epoch - 4ms/step\n",
            "Test accuracy: 0.8580999970436096\n"
          ]
        }
      ],
      "source": [
        "import tensorflow as tf\n",
        "from tensorflow import keras\n",
        "from keras.datasets import fashion_mnist\n",
        "import numpy as np\n",
        "import matplotlib.pyplot as plt\n",
        "\n",
        "# Load keras.datasets.fashion_mnist data into (train_images, train_labels), (test_images, test_labels)\n",
        "(train_images, train_labels), (test_images, test_labels) = fashion_mnist.load_data()\n",
        "\n",
        "# Implement an MLP architecture that can be trained on the fashion dataset. Select the number of layers\n",
        "# to be 64 and number of nodes in each layer to be 128. The input and output layers’ nodes need to be determined\n",
        "# based on the dataset.\n",
        "model = keras.models.Sequential([\n",
        "    keras.layers.Flatten(input_shape=(28, 28)),\n",
        "    keras.layers.Dense(1024, activation='relu'),\n",
        "    keras.layers.Dense(128, activation='relu'),\n",
        "    keras.layers.Dense(10)\n",
        "])\n",
        "\n",
        "# Compile the model with the loss function as sparse_categorical_crossentropy and optimizer as adam.\n",
        "model.compile(optimizer='adam', loss=tf.keras.losses.SparseCategoricalCrossentropy(from_logits=True), metrics=['accuracy'])\n",
        "\n",
        "# Using 10 epochs and a batch size of 64, train the model on the training data.\n",
        "model.fit(train_images, train_labels, epochs=10, batch_size=64)\n",
        "\n",
        "# Evaluate the model using the test data and labels.\n",
        "test_loss, test_acc = model.evaluate(test_images, test_labels, verbose=2)\n",
        "\n",
        "# Print the test accuracy.\n",
        "print('Test accuracy:', test_acc)"
      ]
    },
    {
      "cell_type": "code",
      "execution_count": null,
      "metadata": {
        "id": "IJA8J-coItHP"
      },
      "outputs": [],
      "source": [
        "# List of hyperparameters\n",
        "hidden_layers = [128, 256]\n",
        "nodes = [64, 128]\n",
        "activation = ['relu', 'sigmoid']\n",
        "\n",
        "# Variables to store best hyperparameter combination.\n",
        "# Defualt values are set to the first combination.\n",
        "best_hidden_layer = 128\n",
        "best_node = 128\n",
        "best_activation = 'relu'\n",
        "best_acc = 0\n",
        "\n",
        "# Variables to store accuracy data into.\n",
        "training_accuracy = []\n",
        "validation_accuracy = []\n"
      ]
    },
    {
      "cell_type": "code",
      "execution_count": null,
      "metadata": {
        "colab": {
          "base_uri": "https://localhost:8080/"
        },
        "id": "kkeeLrnNJH77",
        "outputId": "958057d0-2de1-45a1-9882-27947ade5db8"
      },
      "outputs": [
        {
          "output_type": "stream",
          "name": "stdout",
          "text": [
            "Epoch 1/10\n",
            "938/938 [==============================] - 4s 4ms/step - loss: 1.9060 - accuracy: 0.7164\n",
            "Epoch 2/10\n",
            "938/938 [==============================] - 4s 4ms/step - loss: 0.6104 - accuracy: 0.7980\n",
            "Epoch 3/10\n",
            "938/938 [==============================] - 4s 4ms/step - loss: 0.5312 - accuracy: 0.8183\n",
            "Epoch 4/10\n",
            "938/938 [==============================] - 4s 4ms/step - loss: 0.4963 - accuracy: 0.8298\n",
            "Epoch 5/10\n",
            "938/938 [==============================] - 4s 5ms/step - loss: 0.4600 - accuracy: 0.8407\n",
            "Epoch 6/10\n",
            "938/938 [==============================] - 4s 4ms/step - loss: 0.4331 - accuracy: 0.8493\n",
            "Epoch 7/10\n",
            "938/938 [==============================] - 4s 4ms/step - loss: 0.4126 - accuracy: 0.8553\n",
            "Epoch 8/10\n",
            "938/938 [==============================] - 4s 4ms/step - loss: 0.3930 - accuracy: 0.8607\n",
            "Epoch 9/10\n",
            "938/938 [==============================] - 4s 4ms/step - loss: 0.3747 - accuracy: 0.8674\n",
            "Epoch 10/10\n",
            "938/938 [==============================] - 4s 4ms/step - loss: 0.3700 - accuracy: 0.8684\n",
            "313/313 - 1s - loss: 0.4358 - accuracy: 0.8494 - 635ms/epoch - 2ms/step\n",
            "\n",
            "hidden_layer: 128, node: 64, activation: relu, test_accuracy: 0.849399983882904\n",
            "\n",
            "Epoch 1/10\n",
            "938/938 [==============================] - 4s 4ms/step - loss: 0.9341 - accuracy: 0.6901\n",
            "Epoch 2/10\n",
            "938/938 [==============================] - 4s 4ms/step - loss: 0.7146 - accuracy: 0.7323\n",
            "Epoch 3/10\n",
            "938/938 [==============================] - 4s 4ms/step - loss: 0.7110 - accuracy: 0.7297\n",
            "Epoch 4/10\n",
            "938/938 [==============================] - 4s 4ms/step - loss: 0.7051 - accuracy: 0.7344\n",
            "Epoch 5/10\n",
            "938/938 [==============================] - 4s 4ms/step - loss: 0.7122 - accuracy: 0.7316\n",
            "Epoch 6/10\n",
            "938/938 [==============================] - 4s 4ms/step - loss: 0.7003 - accuracy: 0.7266\n",
            "Epoch 7/10\n",
            "938/938 [==============================] - 4s 4ms/step - loss: 0.6674 - accuracy: 0.7441\n",
            "Epoch 8/10\n",
            "938/938 [==============================] - 4s 4ms/step - loss: 0.6797 - accuracy: 0.7377\n",
            "Epoch 9/10\n",
            "938/938 [==============================] - 4s 4ms/step - loss: 0.6492 - accuracy: 0.7551\n",
            "Epoch 10/10\n",
            "938/938 [==============================] - 4s 4ms/step - loss: 0.6473 - accuracy: 0.7510\n",
            "313/313 - 1s - loss: 0.6855 - accuracy: 0.7325 - 734ms/epoch - 2ms/step\n",
            "\n",
            "hidden_layer: 128, node: 64, activation: sigmoid, test_accuracy: 0.7325000166893005\n",
            "\n",
            "Epoch 1/10\n",
            "938/938 [==============================] - 4s 4ms/step - loss: 2.8854 - accuracy: 0.7454\n",
            "Epoch 2/10\n",
            "938/938 [==============================] - 4s 4ms/step - loss: 0.6305 - accuracy: 0.8061\n",
            "Epoch 3/10\n",
            "938/938 [==============================] - 4s 4ms/step - loss: 0.5507 - accuracy: 0.8175\n",
            "Epoch 4/10\n",
            "938/938 [==============================] - 4s 5ms/step - loss: 0.5118 - accuracy: 0.8278\n",
            "Epoch 5/10\n",
            "938/938 [==============================] - 4s 4ms/step - loss: 0.4757 - accuracy: 0.8364\n",
            "Epoch 6/10\n",
            "938/938 [==============================] - 4s 4ms/step - loss: 0.4519 - accuracy: 0.8427\n",
            "Epoch 7/10\n",
            "938/938 [==============================] - 4s 4ms/step - loss: 0.4444 - accuracy: 0.8435\n",
            "Epoch 8/10\n",
            "938/938 [==============================] - 4s 4ms/step - loss: 0.4208 - accuracy: 0.8493\n",
            "Epoch 9/10\n",
            "938/938 [==============================] - 4s 4ms/step - loss: 0.4070 - accuracy: 0.8566\n",
            "Epoch 10/10\n",
            "938/938 [==============================] - 4s 4ms/step - loss: 0.3892 - accuracy: 0.8605\n",
            "313/313 - 1s - loss: 0.4744 - accuracy: 0.8376 - 595ms/epoch - 2ms/step\n",
            "\n",
            "hidden_layer: 128, node: 128, activation: relu, test_accuracy: 0.8375999927520752\n",
            "\n",
            "Epoch 1/10\n",
            "938/938 [==============================] - 5s 5ms/step - loss: 0.9024 - accuracy: 0.6839\n",
            "Epoch 2/10\n",
            "938/938 [==============================] - 4s 4ms/step - loss: 0.7500 - accuracy: 0.7125\n",
            "Epoch 3/10\n",
            "938/938 [==============================] - 4s 4ms/step - loss: 0.7278 - accuracy: 0.7148\n",
            "Epoch 4/10\n",
            "938/938 [==============================] - 4s 4ms/step - loss: 0.7127 - accuracy: 0.7242\n",
            "Epoch 5/10\n",
            "938/938 [==============================] - 4s 4ms/step - loss: 0.7291 - accuracy: 0.7228\n",
            "Epoch 6/10\n",
            "938/938 [==============================] - 4s 4ms/step - loss: 0.6749 - accuracy: 0.7405\n",
            "Epoch 7/10\n",
            "938/938 [==============================] - 4s 4ms/step - loss: 0.6904 - accuracy: 0.7387\n",
            "Epoch 8/10\n",
            "938/938 [==============================] - 4s 4ms/step - loss: 0.6900 - accuracy: 0.7353\n",
            "Epoch 9/10\n",
            "938/938 [==============================] - 4s 4ms/step - loss: 0.6563 - accuracy: 0.7527\n",
            "Epoch 10/10\n",
            "938/938 [==============================] - 4s 4ms/step - loss: 0.6544 - accuracy: 0.7502\n",
            "313/313 - 1s - loss: 0.6574 - accuracy: 0.7512 - 632ms/epoch - 2ms/step\n",
            "\n",
            "hidden_layer: 128, node: 128, activation: sigmoid, test_accuracy: 0.7512000203132629\n",
            "\n",
            "Epoch 1/10\n",
            "938/938 [==============================] - 5s 5ms/step - loss: 2.1535 - accuracy: 0.6727\n",
            "Epoch 2/10\n",
            "938/938 [==============================] - 5s 5ms/step - loss: 0.6790 - accuracy: 0.7225\n",
            "Epoch 3/10\n",
            "938/938 [==============================] - 5s 5ms/step - loss: 0.5720 - accuracy: 0.7777\n",
            "Epoch 4/10\n",
            "938/938 [==============================] - 5s 5ms/step - loss: 0.5094 - accuracy: 0.8066\n",
            "Epoch 5/10\n",
            "938/938 [==============================] - 5s 5ms/step - loss: 0.4819 - accuracy: 0.8220\n",
            "Epoch 6/10\n",
            "938/938 [==============================] - 5s 5ms/step - loss: 0.4464 - accuracy: 0.8365\n",
            "Epoch 7/10\n",
            "938/938 [==============================] - 5s 5ms/step - loss: 0.4271 - accuracy: 0.8453\n",
            "Epoch 8/10\n",
            "938/938 [==============================] - 5s 5ms/step - loss: 0.4033 - accuracy: 0.8552\n",
            "Epoch 9/10\n",
            "938/938 [==============================] - 5s 5ms/step - loss: 0.3967 - accuracy: 0.8568\n",
            "Epoch 10/10\n",
            "938/938 [==============================] - 5s 5ms/step - loss: 0.3718 - accuracy: 0.8660\n",
            "313/313 - 1s - loss: 0.4382 - accuracy: 0.8496 - 761ms/epoch - 2ms/step\n",
            "\n",
            "hidden_layer: 256, node: 64, activation: relu, test_accuracy: 0.8496000170707703\n",
            "\n",
            "Epoch 1/10\n",
            "938/938 [==============================] - 6s 6ms/step - loss: 0.8679 - accuracy: 0.7082\n",
            "Epoch 2/10\n",
            "938/938 [==============================] - 5s 6ms/step - loss: 0.7152 - accuracy: 0.7268\n",
            "Epoch 3/10\n",
            "938/938 [==============================] - 5s 6ms/step - loss: 0.6965 - accuracy: 0.7296\n",
            "Epoch 4/10\n",
            "938/938 [==============================] - 5s 5ms/step - loss: 0.6840 - accuracy: 0.7399\n",
            "Epoch 5/10\n",
            "938/938 [==============================] - 5s 6ms/step - loss: 0.6771 - accuracy: 0.7361\n",
            "Epoch 6/10\n",
            "938/938 [==============================] - 5s 6ms/step - loss: 0.6763 - accuracy: 0.7354\n",
            "Epoch 7/10\n",
            "938/938 [==============================] - 5s 6ms/step - loss: 0.6673 - accuracy: 0.7426\n",
            "Epoch 8/10\n",
            "938/938 [==============================] - 5s 6ms/step - loss: 0.6584 - accuracy: 0.7487\n",
            "Epoch 9/10\n",
            "938/938 [==============================] - 6s 6ms/step - loss: 0.6344 - accuracy: 0.7538\n",
            "Epoch 10/10\n",
            "938/938 [==============================] - 5s 6ms/step - loss: 0.6180 - accuracy: 0.7699\n",
            "313/313 - 1s - loss: 0.6610 - accuracy: 0.7506 - 867ms/epoch - 3ms/step\n",
            "\n",
            "hidden_layer: 256, node: 64, activation: sigmoid, test_accuracy: 0.7505999803543091\n",
            "\n",
            "Epoch 1/10\n",
            "938/938 [==============================] - 6s 6ms/step - loss: 3.2612 - accuracy: 0.7570\n",
            "Epoch 2/10\n",
            "938/938 [==============================] - 6s 6ms/step - loss: 0.6304 - accuracy: 0.8108\n",
            "Epoch 3/10\n",
            "938/938 [==============================] - 6s 6ms/step - loss: 0.4962 - accuracy: 0.8311\n",
            "Epoch 4/10\n",
            "938/938 [==============================] - 6s 6ms/step - loss: 0.4705 - accuracy: 0.8379\n",
            "Epoch 5/10\n",
            "938/938 [==============================] - 5s 6ms/step - loss: 0.4412 - accuracy: 0.8452\n",
            "Epoch 6/10\n",
            "938/938 [==============================] - 5s 6ms/step - loss: 0.4229 - accuracy: 0.8512\n",
            "Epoch 7/10\n",
            "938/938 [==============================] - 5s 5ms/step - loss: 0.4090 - accuracy: 0.8535\n",
            "Epoch 8/10\n",
            "938/938 [==============================] - 5s 5ms/step - loss: 0.3894 - accuracy: 0.8615\n",
            "Epoch 9/10\n",
            "938/938 [==============================] - 5s 5ms/step - loss: 0.3773 - accuracy: 0.8665\n",
            "Epoch 10/10\n",
            "938/938 [==============================] - 5s 6ms/step - loss: 0.3551 - accuracy: 0.8726\n",
            "313/313 - 1s - loss: 0.4240 - accuracy: 0.8511 - 859ms/epoch - 3ms/step\n",
            "\n",
            "hidden_layer: 256, node: 128, activation: relu, test_accuracy: 0.8511000275611877\n",
            "\n",
            "Epoch 1/10\n",
            "938/938 [==============================] - 6s 5ms/step - loss: 0.8204 - accuracy: 0.7096\n",
            "Epoch 2/10\n",
            "938/938 [==============================] - 5s 5ms/step - loss: 0.7106 - accuracy: 0.7283\n",
            "Epoch 3/10\n",
            "938/938 [==============================] - 5s 5ms/step - loss: 0.7026 - accuracy: 0.7336\n",
            "Epoch 4/10\n",
            "938/938 [==============================] - 5s 5ms/step - loss: 0.7063 - accuracy: 0.7236\n",
            "Epoch 5/10\n",
            "938/938 [==============================] - 5s 6ms/step - loss: 0.6885 - accuracy: 0.7393\n",
            "Epoch 6/10\n",
            "938/938 [==============================] - 5s 5ms/step - loss: 0.6612 - accuracy: 0.7501\n",
            "Epoch 7/10\n",
            "938/938 [==============================] - 5s 5ms/step - loss: 0.6633 - accuracy: 0.7423\n",
            "Epoch 8/10\n",
            "938/938 [==============================] - 5s 5ms/step - loss: 0.6601 - accuracy: 0.7505\n",
            "Epoch 9/10\n",
            "938/938 [==============================] - 5s 5ms/step - loss: 0.6472 - accuracy: 0.7483\n",
            "Epoch 10/10\n",
            "938/938 [==============================] - 5s 5ms/step - loss: 0.6562 - accuracy: 0.7440\n",
            "313/313 - 1s - loss: 0.6694 - accuracy: 0.7333 - 812ms/epoch - 3ms/step\n",
            "\n",
            "hidden_layer: 256, node: 128, activation: sigmoid, test_accuracy: 0.733299970626831\n",
            "\n"
          ]
        }
      ],
      "source": [
        "# Create a list that contains layers nodes and activation function\n",
        "hyperparameters = [(hidden_layer, node, act) for hidden_layer in hidden_layers for node in nodes for act in activation]\n",
        "# Loop through the list of hyperparameters\n",
        "for hidden_layer, node, act in hyperparameters:\n",
        "    # Create the model\n",
        "    model = keras.models.Sequential([\n",
        "        keras.layers.Flatten(input_shape=(28, 28)),\n",
        "        keras.layers.Dense(hidden_layer, activation=act),\n",
        "        keras.layers.Dense(node, activation=act),\n",
        "        keras.layers.Dense(10)\n",
        "    ])\n",
        "    # Compile the model\n",
        "    model.compile(optimizer='adam', loss=tf.keras.losses.SparseCategoricalCrossentropy(from_logits=True), metrics=['accuracy'])\n",
        "    # Store training accuracy results in history varaiable\n",
        "    history = model.fit(train_images, train_labels, epochs=10, batch_size=64)\n",
        "    # Add the accuracy from the training set to the training accuracy variable\n",
        "    training_accuracy.append(history.history['accuracy'][-1])\n",
        "    # Evaluate the model on the test set\n",
        "    test_loss, test_accuracy = model.evaluate(test_images, test_labels, verbose=2)\n",
        "    # Add the accuracy from the test to the validation accuracy list\n",
        "    validation_accuracy.append(test_accuracy)\n",
        "    # Print the test accuracy for each combination\n",
        "    print('\\nhidden_layer: {}, node: {}, activation: {}, test_accuracy: {}\\n'.format(hidden_layer, node, act, test_accuracy))\n",
        "    # Update the best hyperparameter variables if the new test accuracy is better than the previous best accuracy\n",
        "    if test_accuracy > best_acc:\n",
        "        best_hidden_layer = hidden_layer\n",
        "        best_node = node\n",
        "        best_activation = act\n",
        "        best_acc = test_accuracy"
      ]
    },
    {
      "cell_type": "code",
      "execution_count": null,
      "metadata": {
        "colab": {
          "base_uri": "https://localhost:8080/"
        },
        "id": "2m9cduBwI8q1",
        "outputId": "94453be6-1c7d-42b7-8627-b6c83a7fbc0f"
      },
      "outputs": [
        {
          "output_type": "stream",
          "name": "stdout",
          "text": [
            "best_hidden_layer: 256, best_node: 128, best_activation: relu, best_acc: 0.8511000275611877\n",
            "Training the best model on our training set...\n",
            "Epoch 1/10\n",
            "938/938 [==============================] - 5s 5ms/step - loss: 2.8344 - accuracy: 0.7633\n",
            "Epoch 2/10\n",
            "938/938 [==============================] - 5s 5ms/step - loss: 0.5715 - accuracy: 0.8204\n",
            "Epoch 3/10\n",
            "938/938 [==============================] - 5s 5ms/step - loss: 0.4682 - accuracy: 0.8389\n",
            "Epoch 4/10\n",
            "938/938 [==============================] - 5s 5ms/step - loss: 0.4340 - accuracy: 0.8481\n",
            "Epoch 5/10\n",
            "938/938 [==============================] - 5s 5ms/step - loss: 0.4123 - accuracy: 0.8538\n",
            "Epoch 6/10\n",
            "938/938 [==============================] - 5s 5ms/step - loss: 0.3965 - accuracy: 0.8584\n",
            "Epoch 7/10\n",
            "938/938 [==============================] - 5s 5ms/step - loss: 0.3780 - accuracy: 0.8654\n",
            "Epoch 8/10\n",
            "938/938 [==============================] - 5s 5ms/step - loss: 0.3748 - accuracy: 0.8648\n",
            "Epoch 9/10\n",
            "938/938 [==============================] - 5s 5ms/step - loss: 0.3626 - accuracy: 0.8663\n",
            "Epoch 10/10\n",
            "938/938 [==============================] - 5s 5ms/step - loss: 0.3431 - accuracy: 0.8755\n"
          ]
        },
        {
          "output_type": "execute_result",
          "data": {
            "text/plain": [
              "<keras.callbacks.History at 0x7ff4975c0a10>"
            ]
          },
          "metadata": {},
          "execution_count": 4
        }
      ],
      "source": [
        "# Print the best hyperparameters\n",
        "print('best_hidden_layer: {}, best_node: {}, best_activation: {}, best_acc: {}\\nTraining the best model on our training set...'.format(best_hidden_layer, best_node, best_activation, best_acc))\n",
        "\n",
        "# Using the best hyperparameters, create a model\n",
        "model = keras.models.Sequential([\n",
        "    keras.layers.Flatten(input_shape=(28, 28)),\n",
        "    keras.layers.Dense(best_hidden_layer, activation=best_activation),\n",
        "    keras.layers.Dense(best_node, activation=best_activation),\n",
        "    keras.layers.Dense(10)\n",
        "])\n",
        "\n",
        "# After compiling, train the model using the best hyperparameters from earlier.\n",
        "model.compile(optimizer='adam', loss=tf.keras.losses.SparseCategoricalCrossentropy(from_logits=True), metrics=['accuracy'])\n",
        "model.fit(train_images, train_labels, epochs=10, batch_size=64)"
      ]
    },
    {
      "cell_type": "code",
      "execution_count": null,
      "metadata": {
        "colab": {
          "base_uri": "https://localhost:8080/"
        },
        "id": "noqKUBVcI_7R",
        "outputId": "6e71c58a-4ca1-4438-9c2b-32f24497a0d0"
      },
      "outputs": [
        {
          "output_type": "stream",
          "name": "stdout",
          "text": [
            "Evaluating the model...\n",
            "313/313 - 1s - loss: 0.4332 - accuracy: 0.8547 - 785ms/epoch - 3ms/step\n",
            "Final trained accuracy: 0.8547000288963318\n"
          ]
        }
      ],
      "source": [
        "# Evaluate the model using the test data and labels.\n",
        "print('Evaluating the model...')\n",
        "test_loss, test_a = model.evaluate(test_images, test_labels, verbose=2)\n",
        "\n",
        "# Print the test accuracy.\n",
        "print('Final trained accuracy:', test_a)"
      ]
    },
    {
      "cell_type": "code",
      "execution_count": null,
      "metadata": {
        "colab": {
          "base_uri": "https://localhost:8080/",
          "height": 279
        },
        "id": "IP7v0MM7JtXM",
        "outputId": "2dc56d05-1979-40e3-be08-a6986393b3af"
      },
      "outputs": [
        {
          "output_type": "display_data",
          "data": {
            "text/plain": [
              "<Figure size 432x288 with 1 Axes>"
            ],
            "image/png": "[encoded data removed]"
          },
          "metadata": {
            "needs_background": "light"
          }
        }
      ],
      "source": [
        "# Plot the training accuracy and the validation accuracy for each combination\n",
        "plt.plot(range(1, 9), training_accuracy)\n",
        "plt.plot(range(1, 9), validation_accuracy)\n",
        "plt.xlabel('Hyperparameter combination')\n",
        "plt.ylabel('Accuracy')\n",
        "plt.legend(['Training accuracy', 'Validation accuracy'])\n",
        "plt.show()"
      ]
    },
    {
      "cell_type": "code",
      "source": [
        "# Both plots of data follow a similar trend. They are similar since they are both trained on \n",
        "# similar subsets of the same data. The peaks seen in the figure above are due to the different\n",
        "# activation functions used when training and validating the data. We were bound to see similarities\n",
        "# due to the reason mentioned earlier and because we kept the constraints pretty tight. \n",
        "# The best accuracy from the training was around 85.11% with a hidden layer value of 256, \n",
        "# a node value of 128, and activation function of 'relu'. After using these hyperparameters \n",
        "# to train our model, a accuracy of 85.47% was achieved. "
      ],
      "metadata": {
        "id": "0E2uuO4L9Lhl"
      },
      "execution_count": null,
      "outputs": []
    }
  ],
  "metadata": {
    "colab": {
      "collapsed_sections": [],
      "provenance": []
    },
    "kernelspec": {
      "display_name": "Python 3",
      "name": "python3"
    },
    "language_info": {
      "name": "python"
    }
  },
  "nbformat": 4,
  "nbformat_minor": 0
}